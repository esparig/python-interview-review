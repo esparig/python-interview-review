{
 "cells": [
  {
   "cell_type": "markdown",
   "metadata": {},
   "source": [
    "# Welcome to Python Interview Review\n",
    "This notebook is intended to review some concepts through the main data structures and algorithms. Ideally you would review all this content and solve the example exercises, and then continue practicing using platforms like hackerrank or leetcode.\n",
    "## Index\n",
    "* Primitive Types\n",
    "* Arrays\n",
    "* Strings\n",
    "* Linked Lists\n",
    "* Stacks\n",
    "* Queues\n",
    "* Binary Trees\n",
    "* Heaps\n",
    "* Searching\n",
    "* Hash Tables\n",
    "* Sorting\n",
    "* Binary Search Trees\n",
    "* Recursion\n",
    "* Dynamic Programming\n",
    "* Greedy Algorithms\n",
    "* Graphs"
   ]
  },
  {
   "cell_type": "markdown",
   "metadata": {},
   "source": [
    "## Primitive Types\n",
    "In Python everything is an object, including Booleans, integers, characteres, etc. Some useful tools to work with primitive types are:\n",
    "\n",
    "* Bit-wise operators such as `6&4`, `1|2`, `8>>1`, `~0` (negative numbers are treated as theis 2's complement value), `15^x`...\n",
    "* Key methods for numeric types: `abs(n)`, `math.ceil(1/2)`, `math.floor(1/2)`, `min(x)`, `max(x)`, `pow(x, n)` or alternatively `x ** n`, and `math.sqrt(x)`.\n",
    "* Interconversions: `str(42)`, `int(\"42\")`, `float(\"3.14\")`.\n",
    "* Some useful numbers or expressions: `math.pi`, `math.e`, `float(\"inf\")`.\n",
    "* Some methods from random library: `random.randint(4, 10)`, `random.random()`, `random.shuffle(A)`, `random.choice(A)`, `random.choices(A, weights, k)`.\n",
    "* How to clear the lowermost set bit: `x & (x -1)`. Hence:\n",
    "  * Isolate the lowermost bit: `x & (x -1) ^ x`.\n",
    "\n",
    "You can additionally check the [built-in functions](https://docs.python.org/3/library/functions.html), the [math library](https://docs.python.org/3/library/math.html), and the [random library](https://docs.python.org/3/library/random.html)."
   ]
  },
  {
   "cell_type": "markdown",
   "metadata": {},
   "source": [
    "### Compute the parity\n",
    "Parity of a number refers to whether it contains an odd or even number of 1-bits. The number has “odd parity”, if it contains odd number of 1-bits and is “even parity” if it contains even number of 1-bits."
   ]
  },
  {
   "cell_type": "code",
   "execution_count": 1,
   "metadata": {},
   "outputs": [],
   "source": [
    "def parity(x):\n",
    "    '''\n",
    "    Test even parity:\n",
    "    >>> parity(3)\n",
    "    True\n",
    "    \n",
    "    Test odd parity:\n",
    "    >>> parity(8)\n",
    "    False\n",
    "    '''\n",
    "    even = True\n",
    "    while x > 0:\n",
    "        x = x & (x-1)\n",
    "        even ^= True\n",
    "    return even\n"
   ]
  },
  {
   "cell_type": "code",
   "execution_count": 2,
   "metadata": {},
   "outputs": [
    {
     "name": "stdout",
     "output_type": "stream",
     "text": [
      "Trying:\n",
      "    parity(3)\n",
      "Expecting:\n",
      "    True\n",
      "ok\n",
      "Trying:\n",
      "    parity(8)\n",
      "Expecting:\n",
      "    False\n",
      "ok\n",
      "1 items had no tests:\n",
      "    __main__\n",
      "1 items passed all tests:\n",
      "   2 tests in __main__.parity\n",
      "2 tests in 2 items.\n",
      "2 passed and 0 failed.\n",
      "Test passed.\n"
     ]
    },
    {
     "data": {
      "text/plain": [
       "TestResults(failed=0, attempted=2)"
      ]
     },
     "execution_count": 2,
     "metadata": {},
     "output_type": "execute_result"
    }
   ],
   "source": [
    "\n",
    "import doctest\n",
    "doctest.testmod(verbose=True)"
   ]
  },
  {
   "cell_type": "markdown",
   "metadata": {},
   "source": [
    "https://leetcode.com/explore/interview/card/top-interview-questions-easy/99/others/\n"
   ]
  }
 ],
 "metadata": {
  "kernelspec": {
   "display_name": "Python 3",
   "language": "python",
   "name": "python3"
  },
  "language_info": {
   "codemirror_mode": {
    "name": "ipython",
    "version": 3
   },
   "file_extension": ".py",
   "mimetype": "text/x-python",
   "name": "python",
   "nbconvert_exporter": "python",
   "pygments_lexer": "ipython3",
   "version": "3.7.6"
  }
 },
 "nbformat": 4,
 "nbformat_minor": 4
}
