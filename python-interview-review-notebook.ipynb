{
 "cells": [
  {
   "cell_type": "markdown",
   "metadata": {},
   "source": [
    "# Welcome to Python Interview Review\n",
    "This notebook is intended to review some concepts through the main data structures and algorithms. Ideally you would review all this content and solve the example exercises, and then continue practicing using platforms like hackerrank or leetcode.\n",
    "## Index\n",
    "* Primitive Types\n",
    "* Arrays\n",
    "* Strings\n",
    "* Linked Lists\n",
    "* Stacks\n",
    "* Queues\n",
    "* Binary Trees\n",
    "* Heaps\n",
    "* Searching\n",
    "* Hash Tables\n",
    "* Sorting\n",
    "* Binary Search Trees\n",
    "* Recursion\n",
    "* Dynamic Programming\n",
    "* Greedy Algorithms\n",
    "* Graphs"
   ]
  },
  {
   "cell_type": "code",
   "execution_count": 24,
   "metadata": {},
   "outputs": [],
   "source": [
    "import doctest\n",
    "from typing import List"
   ]
  },
  {
   "cell_type": "markdown",
   "metadata": {},
   "source": [
    "## Primitive Types\n",
    "In Python everything is an object, including Booleans, integers, characteres, etc. Some useful tools to work with primitive types are:\n",
    "\n",
    "* Bit-wise operators such as `6&4`, `1|2`, `8>>1`, `~0` (negative numbers are treated as theis 2's complement value), `15^x`...\n",
    "* Key methods for numeric types: `abs(n)`, `math.ceil(1/2)`, `math.floor(1/2)`, `min(x)`, `max(x)`, `pow(x, n)` or alternatively `x ** n`, and `math.sqrt(x)`.\n",
    "* Interconversions: `str(42)`, `int(\"42\")`, `float(\"3.14\")`.\n",
    "* Some useful numbers or expressions: `math.pi`, `math.e`, `float(\"inf\")`.\n",
    "* Some methods from random library: `random.randint(4, 10)`, `random.random()`, `random.shuffle(A)`, `random.choice(A)`, `random.choices(A, weights, k)`.\n",
    "* How to clear the lowermost set bit: `x & (x -1)`. Hence:\n",
    "  * Isolate the lowermost bit: `x & (x -1) ^ x`.\n",
    "\n",
    "You can additionally check the [built-in functions](https://docs.python.org/3/library/functions.html), the [math library](https://docs.python.org/3/library/math.html), and the [random library](https://docs.python.org/3/library/random.html)."
   ]
  },
  {
   "cell_type": "markdown",
   "metadata": {},
   "source": [
    "### Compute the parity\n",
    "Parity of a number refers to whether it contains an odd or even number of 1-bits. The number has “odd parity”, if it contains odd number of 1-bits and is “even parity” if it contains even number of 1-bits."
   ]
  },
  {
   "cell_type": "code",
   "execution_count": 4,
   "metadata": {},
   "outputs": [],
   "source": [
    "def parity(x):\n",
    "    '''\n",
    "    Test even parity:\n",
    "    >>> parity(3)\n",
    "    True\n",
    "    \n",
    "    Test odd parity:\n",
    "    >>> parity(8)\n",
    "    False\n",
    "    '''\n",
    "    even = True\n",
    "    while x > 0:\n",
    "        x = x & (x-1)\n",
    "        even ^= True\n",
    "    return even\n"
   ]
  },
  {
   "cell_type": "code",
   "execution_count": 6,
   "metadata": {},
   "outputs": [
    {
     "name": "stdout",
     "output_type": "stream",
     "text": [
      "Trying:\n",
      "    parity(3)\n",
      "Expecting:\n",
      "    True\n",
      "ok\n",
      "Trying:\n",
      "    parity(8)\n",
      "Expecting:\n",
      "    False\n",
      "ok\n",
      "1 items had no tests:\n",
      "    __main__\n",
      "1 items passed all tests:\n",
      "   2 tests in __main__.parity\n",
      "2 tests in 2 items.\n",
      "2 passed and 0 failed.\n",
      "Test passed.\n"
     ]
    },
    {
     "data": {
      "text/plain": [
       "TestResults(failed=0, attempted=2)"
      ]
     },
     "execution_count": 6,
     "metadata": {},
     "output_type": "execute_result"
    }
   ],
   "source": [
    "doctest.run_docstring_examples(parity, globals(), True)"
   ]
  },
  {
   "cell_type": "markdown",
   "metadata": {},
   "source": [
    "https://leetcode.com/explore/interview/card/top-interview-questions-easy/99/others/\n"
   ]
  },
  {
   "cell_type": "markdown",
   "metadata": {},
   "source": [
    "## Arrays\n",
    "An array is a contiguous block of memory, usually used to represent sequences.\n",
    "Going through an array costs O(n), but retrieveing one element costs O(1).\n",
    "Filling an array from the front is slow, but very fast to do it from the back.\n",
    "Be careful when writing indexes used to go through subarrays, and with off-by-1 errors.\n",
    "In python an array uses the `list` type. Take into account that this type is immutable. \n",
    "Some important things to know:\n",
    "* Instantiate lists: `[1, 2, 3]`, or `[1] + [0] * 9`, or `list(range(100))`, or using list comprehension like `[math.exp(x) for x in range(10)]`.\n",
    "* Basic operations like `len(A)`, `A.append(x)`, `A.remove(elem)`, `A.insert(index, elem)`.\n",
    "* A 2D array is not necessarily a matrix: `A = [[2, 4, 6], [0], [1, 2]]`.\n",
    "* Be careful when copying a list: `B = A`doesn't create a copy, it's only another way of referring to list A. `B = list(A)` however constructs a new list B from the elements of A. Also important to know the differences between `copy.copy(A)`and `copy.deepcopy(A)`, see [copy](https://docs.python.org/3/library/copy.html) library.\n",
    "* Some key methods for lists are: `min(A)`, `max(A)`, binary search using [bisect](https://docs.python.org/3/library/bisect.html), `A.reverse()` (in-place), `reversed(A)` (returns an iterator), `A.sort()` (in-place), `sorted(A)` (returns a copy), `del A[i]` remove the i-th element from the list A...\n",
    "* Slicing is a very practical way of manipulating arrays, the general representation is `A[i:j:k]` where i is the initial index, j the end (excluding it), and k the step. And `A[-1]` returns the last element of A."
   ]
  },
  {
   "cell_type": "markdown",
   "metadata": {},
   "source": [
    "### Remove duplicates\n",
    "Given a sorted array nums, remove the duplicates in-place such that each element appear only once and return the new length.\n",
    "\n",
    "Do not allocate extra space for another array, you must do this by modifying the input array in-place with O(1) extra memory.\n",
    "\n",
    "From [leetcode](https://leetcode.com/explore/interview/card/top-interview-questions-easy/92/array/727/)."
   ]
  },
  {
   "cell_type": "code",
   "execution_count": 15,
   "metadata": {},
   "outputs": [],
   "source": [
    "def removeDuplicates(nums: List[int]) -> int:\n",
    "    '''\n",
    "    Test 1:\n",
    "    >>> removeDuplicates([1,1,2])\n",
    "    2\n",
    "    \n",
    "    Test 2:\n",
    "    >>> removeDuplicates([])\n",
    "    0\n",
    "    \n",
    "    Test 3:\n",
    "    >>> removeDuplicates([2,2,2])\n",
    "    1\n",
    "    '''\n",
    "    if len(nums) == 0:\n",
    "        return 0\n",
    "    write = 0\n",
    "    for read in range(len(nums)):\n",
    "        if nums[read] != nums[write]:\n",
    "            write += 1\n",
    "            nums[write] = nums[read]\n",
    "            \n",
    "    return write+1"
   ]
  },
  {
   "cell_type": "code",
   "execution_count": 16,
   "metadata": {},
   "outputs": [
    {
     "name": "stdout",
     "output_type": "stream",
     "text": [
      "Finding tests in NoName\n",
      "Trying:\n",
      "    removeDuplicates([1,1,2])\n",
      "Expecting:\n",
      "    2\n",
      "ok\n",
      "Trying:\n",
      "    removeDuplicates([])\n",
      "Expecting:\n",
      "    0\n",
      "ok\n",
      "Trying:\n",
      "    removeDuplicates([2,2,2])\n",
      "Expecting:\n",
      "    1\n",
      "ok\n"
     ]
    }
   ],
   "source": [
    "doctest.run_docstring_examples(removeDuplicates, globals(), True)"
   ]
  },
  {
   "cell_type": "markdown",
   "metadata": {},
   "source": [
    "### Stock options\n",
    "Say you have an array prices for which the i-th element is the price of a given stock on day i.\n",
    "\n",
    "Design an algorithm to find the maximum profit. You may complete as many transactions as you like (i.e., buy one and sell one share of the stock multiple times).\n",
    "\n",
    "Note: You may not engage in multiple transactions at the same time (i.e., you must sell the stock before you buy again).\n",
    "\n",
    "From [leetcode](https://leetcode.com/explore/interview/card/top-interview-questions-easy/92/array/564/)."
   ]
  },
  {
   "cell_type": "code",
   "execution_count": 8,
   "metadata": {},
   "outputs": [],
   "source": [
    "def maxProfit(prices: List[int]) -> int:\n",
    "    '''\n",
    "    >>> maxProfit([3,2,1])\n",
    "    0\n",
    "    >>> maxProfit([7,1,5,3,6,4])\n",
    "    7\n",
    "    >>> maxProfit([1,2,3,4,5])\n",
    "    4\n",
    "    '''\n",
    "    profit, current = 0, prices[-1]\n",
    "    for price in reversed(prices[:-1]):\n",
    "        if price < current:\n",
    "            profit += current - price\n",
    "        current = price\n",
    "    return profit"
   ]
  },
  {
   "cell_type": "code",
   "execution_count": 14,
   "metadata": {},
   "outputs": [
    {
     "name": "stdout",
     "output_type": "stream",
     "text": [
      "Finding tests in NoName\n",
      "Trying:\n",
      "    maxProfit([3,2,1])\n",
      "Expecting:\n",
      "    0\n",
      "ok\n",
      "Trying:\n",
      "    maxProfit([7,1,5,3,6,4])\n",
      "Expecting:\n",
      "    7\n",
      "ok\n",
      "Trying:\n",
      "    maxProfit([1,2,3,4,5])\n",
      "Expecting:\n",
      "    4\n",
      "ok\n"
     ]
    }
   ],
   "source": [
    "doctest.run_docstring_examples(maxProfit, globals(), True)"
   ]
  },
  {
   "cell_type": "markdown",
   "metadata": {},
   "source": [
    "### Sort Colors (Dutch flag)\n",
    "Given an array with n objects colored red, white or blue, sort them in-place so that objects of the same color are adjacent, with the colors in the order red, white and blue.\n",
    "\n",
    "Here, we will use the integers 0, 1, and 2 to represent the color red, white, and blue respectively.\n",
    "\n",
    "Note: You are not suppose to use the library's sort function for this problem.\n",
    "\n",
    "From [leetcode](https://leetcode.com/problems/sort-colors/)."
   ]
  },
  {
   "cell_type": "code",
   "execution_count": 3,
   "metadata": {},
   "outputs": [],
   "source": [
    "def sortColors(nums: List[int]) -> None:\n",
    "    pivot = 1\n",
    "    lesser, middle, greater = 0, 0, len(nums)\n",
    "    while middle < greater:\n",
    "        if nums[middle] < pivot:\n",
    "            nums[lesser], nums[middle] = nums[middle], nums[lesser]\n",
    "            lesser, middle = lesser + 1, middle + 1\n",
    "        elif nums[middle] == pivot:\n",
    "            middle += 1\n",
    "        else:\n",
    "            greater -= 1\n",
    "            nums[middle], nums[greater] = nums[greater], nums[middle]"
   ]
  },
  {
   "cell_type": "markdown",
   "metadata": {},
   "source": [
    "## Strings\n",
    "\n",
    "Altough strings can be viewed as a special kind of array, there are certain operations which are commonly applied to this structure, for example, comparison, joining, splitting, searching substrings, parsing... and they don't make sense for general arrays.\n",
    "\n",
    "* String type is immutable. It is important know the implications, knowing the need of allocating a new string when concatenating two immutable strings. \n",
    "* Basic operations on strings are: `s[2]`, `len(s)`, `s + t`, `s[1:3]`, `s in t`, `3 * \"ab\"`.\n",
    "* Some useful string methods are: `s.strip()`, `s.startswith(prefix)`, `s.endswith(suffix)`, `\"Anna, Bob, Celine, David\".split(\",\")`, `\"-\".join((\"abcd\", \"e34f\", \"df09\", \"s334\"))`, `s.tolower()` and `\"X: {x}, Y: {y}\".format(x=\"-123\", y=\"40\")`. \n",
    "* Additional information in [Common string operations](https://docs.python.org/3.8/library/string.html) and [String Methods](https://docs.python.org/3.8/library/stdtypes.html#string-methods).\n",
    "* String problems often have simple brute-force solutions that use O(n) space solutions, but subtler solutions that use the string itself to reduce space complexity to O(1)."
   ]
  },
  {
   "cell_type": "markdown",
   "metadata": {},
   "source": [
    "### Reverse vowels of a string\n",
    "\n",
    "Write a function that takes a string as input and reverse only the vowels of a string.\n",
    "\n",
    "**Example 1:**\n",
    "\n",
    "**Input:** \"hello\"\n",
    "**Output:** \"holle\"\n",
    "\n",
    "**Example 2:**\n",
    "\n",
    "**Input:** \"leetcode\"\n",
    "**Output:** \"leotcede\"\n",
    "\n",
    "*Note:*\n",
    "The vowels does not include the letter \"y\".\n",
    "\n",
    "From [leetcode](https://leetcode.com/problems/reverse-vowels-of-a-string/)."
   ]
  },
  {
   "cell_type": "code",
   "execution_count": 25,
   "metadata": {},
   "outputs": [],
   "source": [
    "def reverseVowels(s: str) -> str:\n",
    "    '''\n",
    "    >>> reverseVowels(\"hello\")\n",
    "    \"holle\"\n",
    "    >>> reverseVowels(\"aA\")\n",
    "    \"Aa\"\n",
    "    >>> reverseVowels(\",;\")\n",
    "    \",;\"\n",
    "    '''\n",
    "    if len(s) < 2:\n",
    "        return s\n",
    "    vowel = \"aeiouAEIOU\"\n",
    "    list_s = list(s)\n",
    "    left, right = 0, len(s) - 1\n",
    "    while True:\n",
    "        while left < len(s) - 1 and list_s[left] not in vowel:\n",
    "            left += 1 \n",
    "        while right >= 0 and list_s[right] not in vowel:\n",
    "            right -= 1\n",
    "        if left < right:\n",
    "            list_s[left], list_s[right] = list_s[right], list_s[left]\n",
    "            left += 1 \n",
    "            right -= 1\n",
    "        else:\n",
    "            break\n",
    "    return \"\".join(list_s)"
   ]
  },
  {
   "cell_type": "code",
   "execution_count": 27,
   "metadata": {},
   "outputs": [
    {
     "name": "stdout",
     "output_type": "stream",
     "text": [
      "Finding tests in NoName\n",
      "Trying:\n",
      "    reverseVowels(\"hello\")\n",
      "Expecting:\n",
      "    \"holle\"\n",
      "**********************************************************************\n",
      "File \"__main__\", line 3, in NoName\n",
      "Failed example:\n",
      "    reverseVowels(\"hello\")\n",
      "Expected:\n",
      "    \"holle\"\n",
      "Got:\n",
      "    'holle'\n",
      "Trying:\n",
      "    reverseVowels(\"aA\")\n",
      "Expecting:\n",
      "    \"Aa\"\n",
      "**********************************************************************\n",
      "File \"__main__\", line 5, in NoName\n",
      "Failed example:\n",
      "    reverseVowels(\"aA\")\n",
      "Expected:\n",
      "    \"Aa\"\n",
      "Got:\n",
      "    'Aa'\n",
      "Trying:\n",
      "    reverseVowels(\",;\")\n",
      "Expecting:\n",
      "    \",;\"\n",
      "**********************************************************************\n",
      "File \"__main__\", line 7, in NoName\n",
      "Failed example:\n",
      "    reverseVowels(\",;\")\n",
      "Expected:\n",
      "    \",;\"\n",
      "Got:\n",
      "    ',;'\n"
     ]
    }
   ],
   "source": [
    "doctest.run_docstring_examples(reverseVowels, globals(), True)"
   ]
  },
  {
   "cell_type": "markdown",
   "metadata": {},
   "source": [
    "## Stacks\n"
   ]
  },
  {
   "cell_type": "markdown",
   "metadata": {},
   "source": [
    "### Valid parentheses\n",
    "\n",
    "Given a string containing just the characters `'('`, `')'`, `'{'`, `'}'`, `'['` and `']'`, determine if the input string is valid.\n",
    "\n",
    "An input string is valid if:\n",
    "\n",
    "1. Open brackets must be closed by the same type of brackets.\n",
    "2. Open brackets must be closed in the correct order.\n",
    "\n",
    "Note that an empty string is also considered valid.\n",
    "\n",
    "From [leetcode](https://leetcode.com/problems/valid-parentheses/).\n",
    "\n",
    "*Follow up*: Try to do it in linear time and constant space."
   ]
  },
  {
   "cell_type": "code",
   "execution_count": 11,
   "metadata": {},
   "outputs": [],
   "source": [
    "def isValid(s: str) -> bool:\n",
    "    '''\n",
    "    >>> isValid(\"()[]{}\")\n",
    "    true\n",
    "    >>> isValid(\"{[]}\")\n",
    "    true\n",
    "    >>> isValid(\"}\")\n",
    "    false\n",
    "    >>> isValid(\"(]\")\n",
    "    false\n",
    "    >>> isValid(\"([)]\")\n",
    "    false\n",
    "    '''\n",
    "    if s is None or len(s) == 1:\n",
    "        return False\n",
    "    d = {}\n",
    "    d[')'] = '('\n",
    "    d[']'] = '['\n",
    "    d['}'] = '{'\n",
    "    stack = []\n",
    "    for c in s:\n",
    "        if c in d:\n",
    "            if not stack or stack.pop() != d[c]:\n",
    "                return False\n",
    "        else:\n",
    "            stack.append(c)\n",
    "    return not stack"
   ]
  },
  {
   "cell_type": "markdown",
   "metadata": {},
   "source": [
    "## Recursion\n",
    "Recursion look for solutions to a problem by solving smaller instances of that problem and build from that.\n",
    "* Recursion is very useful when input is expressed using recursive rules such as a computer grammar.\n",
    "* In general, recursion is used in search, numeration and divide-and-conquer.\n",
    "* Also used as an alternative to deeply nested iterations.\n",
    "* Generally, it is possible to remove recursion by using a satck data structure to mimic the call stack.\n",
    "* It is important know how to use a cache for cases when recursion is called with same arguments."
   ]
  },
  {
   "cell_type": "markdown",
   "metadata": {},
   "source": [
    "### Generate permutations\n",
    "Wirte a program which takes as input an array of distinct integers and generates all permutations of that array. No permutations of the array may apppear more than once."
   ]
  },
  {
   "cell_type": "code",
   "execution_count": null,
   "metadata": {},
   "outputs": [],
   "source": [
    "def permutations(A):\n",
    "    def directed_permutations(i):\n",
    "        if i == len(A) - 1:\n",
    "            result.append(A.copy())\n",
    "            return\n",
    "        \n",
    "        for j in range(i, len(A)):\n",
    "            A[i], A[j] = A[j], A[i]\n",
    "            directed_permutations(i + 1)\n",
    "            A[i], A[j] = A[j], A[i]\n",
    "        \n",
    "    result = []\n",
    "    directed_permutations(0)\n",
    "    return result"
   ]
  }
 ],
 "metadata": {
  "kernelspec": {
   "display_name": "Python 3",
   "language": "python",
   "name": "python3"
  },
  "language_info": {
   "codemirror_mode": {
    "name": "ipython",
    "version": 3
   },
   "file_extension": ".py",
   "mimetype": "text/x-python",
   "name": "python",
   "nbconvert_exporter": "python",
   "pygments_lexer": "ipython3",
   "version": "3.7.3"
  }
 },
 "nbformat": 4,
 "nbformat_minor": 4
}
